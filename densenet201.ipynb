{
 "cells": [
  {
   "cell_type": "markdown",
   "metadata": {},
   "source": [
    "# Transfer learning with train data augmentation, kfold WSI split and TTA\n",
    "\n",
    "This notebook preprocess the images for training, defines and trains a **DenseNet201** model, and finally creates a submission."
   ]
  },
  {
   "cell_type": "code",
   "execution_count": null,
   "metadata": {},
   "outputs": [],
   "source": [
    "import keras.backend as K\n",
    "import matplotlib.pyplot as plt\n",
    "import numpy as np\n",
    "import os\n",
    "import pandas as pd\n",
    "import pickle\n",
    "import tensorflow as tf\n",
    "\n",
    "from keras.applications.resnet50 import ResNet50, preprocess_input\n",
    "from keras.callbacks import Callback, EarlyStopping, ReduceLROnPlateau\n",
    "from keras.layers import Dense, Dropout, Flatten, GlobalAveragePooling2D, BatchNormalization\n",
    "from keras.models import Model, load_model\n",
    "from keras.optimizers import SGD\n",
    "from keras.preprocessing.image import load_img, img_to_array, ImageDataGenerator\n",
    "\n",
    "from sklearn.metrics import roc_auc_score\n",
    "from sklearn.model_selection import StratifiedKFold, GroupKFold"
   ]
  },
  {
   "cell_type": "code",
   "execution_count": null,
   "metadata": {},
   "outputs": [],
   "source": [
    "# Configure Keras and TensorFlow so that they use the GPU\n",
    "tf_config = tf.ConfigProto(allow_soft_placement=True)\n",
    "tf_config.gpu_options.allow_growth = True\n",
    "sess = tf.Session(config=tf_config)\n",
    "K.set_session(sess)"
   ]
  },
  {
   "cell_type": "markdown",
   "metadata": {},
   "source": [
    "## Read images and labels"
   ]
  },
  {
   "cell_type": "code",
   "execution_count": null,
   "metadata": {},
   "outputs": [],
   "source": [
    "data_path = os.path.join(os.getcwd(), 'input')"
   ]
  },
  {
   "cell_type": "code",
   "execution_count": null,
   "metadata": {},
   "outputs": [],
   "source": [
    "train_path = os.path.join(data_path, 'train')\n",
    "labels_path = os.path.join(data_path, 'train_labels.csv')"
   ]
  },
  {
   "cell_type": "code",
   "execution_count": null,
   "metadata": {},
   "outputs": [],
   "source": [
    "df = pd.read_csv(labels_path)\n",
    "# df = df.head(1000)  # Remove this line for full data\n",
    "df.head()"
   ]
  },
  {
   "cell_type": "code",
   "execution_count": null,
   "metadata": {},
   "outputs": [],
   "source": [
    "def crop_roi(img, roi_size=48):\n",
    "    \"\"\"Crop a square region in the center of the image.\"\"\"\n",
    "    size = img.shape[0]\n",
    "    roi_ul = (int(size / 2 - roi_size / 2), int(size / 2 - roi_size / 2))\n",
    "    roi_lr = (int(size / 2 + roi_size / 2), int(size / 2 + roi_size / 2))\n",
    "    return img[roi_ul[1]: roi_lr[1], roi_ul[0]: roi_lr[0]]\n",
    "\n",
    "def load_image(img_id, img_size=96, roi_size=None):\n",
    "    \"\"\"Load image using its id. Resize and crop is optional.\"\"\"\n",
    "    img_path = os.path.join(train_path, '{}.tif'.format(img_id))\n",
    "    img = load_img(img_path, target_size=(img_size, img_size))\n",
    "    img = img_to_array(img)\n",
    "    if roi_size:\n",
    "        return crop_roi(img, roi_size)\n",
    "    return img"
   ]
  },
  {
   "cell_type": "code",
   "execution_count": null,
   "metadata": {},
   "outputs": [],
   "source": [
    "img = load_image(df.id[0])\n",
    "plt.imshow(img / 255)"
   ]
  },
  {
   "cell_type": "markdown",
   "metadata": {},
   "source": [
    "## Load WSIs per Image Id\n",
    "\n",
    "Thanks to this [Kaggle discussion](https://www.kaggle.com/c/histopathologic-cancer-detection/discussion/83760), we can see that images in the data are taken from a larger *Whole slide image* (WSI). If we split these sections between train and validation we could overestimate the validation metric."
   ]
  },
  {
   "cell_type": "code",
   "execution_count": null,
   "metadata": {},
   "outputs": [],
   "source": [
    "wsi_path = os.path.join(data_path, 'patch_id_wsi.csv')\n",
    "df = df.merge(pd.read_csv(wsi_path), left_on='id', right_on='id', how='left')"
   ]
  },
  {
   "cell_type": "markdown",
   "metadata": {},
   "source": [
    "Now let's obtain the WSI per image if available to make a proper split afterwards."
   ]
  },
  {
   "cell_type": "code",
   "execution_count": null,
   "metadata": {},
   "outputs": [],
   "source": [
    "df.wsi = df.wsi.str.split(\"_\", expand=True)[3]"
   ]
  },
  {
   "cell_type": "markdown",
   "metadata": {},
   "source": [
    "For the ids that aren't associated with a WSI, use a unique value:"
   ]
  },
  {
   "cell_type": "code",
   "execution_count": null,
   "metadata": {},
   "outputs": [],
   "source": [
    "df.wsi.fillna(np.random.choice(df[df.wsi != np.nan].wsi), inplace =True)"
   ]
  },
  {
   "cell_type": "markdown",
   "metadata": {},
   "source": [
    "## Load and preprocess train set\n",
    "\n",
    "Let's load all the images and annotations and pickle the results. For future reference the following format is used for pickled names:\n",
    "\n",
    "`train_images_[img_size]_[roi_size].pkl`\n",
    "\n",
    "The structure pickled is a numpy array of shape (`N`, `roi_size`, `roi_size`, 3). Where `N` is the size of the train set (220025 in our case), the image channels are in RGB order (Keras' standard) and pixel values aren't normalized (they range from 0 to 255). Images are load from the `.tif` files, resized to `img_size`x`img_size`, and then we crop the center (region of interest) of this image, a square of size `roi_size`x`roi_size`."
   ]
  },
  {
   "cell_type": "code",
   "execution_count": null,
   "metadata": {},
   "outputs": [],
   "source": [
    "img_size = 96\n",
    "roi_size = None  # Do not crop center square"
   ]
  },
  {
   "cell_type": "code",
   "execution_count": null,
   "metadata": {},
   "outputs": [],
   "source": [
    "if roi_size is None:\n",
    "    size = img_size\n",
    "else:\n",
    "    size = roi_size"
   ]
  },
  {
   "cell_type": "code",
   "execution_count": null,
   "metadata": {},
   "outputs": [],
   "source": [
    "images = []\n",
    "labels = []\n",
    "wsis = []"
   ]
  },
  {
   "cell_type": "code",
   "execution_count": null,
   "metadata": {},
   "outputs": [],
   "source": [
    "for idx, row in df.iterrows():\n",
    "    img_id, label, wsi = row\n",
    "    img = load_image(img_id, img_size=img_size, roi_size=roi_size)\n",
    "    img = img.reshape(1, size, size, 3)\n",
    "    images.append(img)\n",
    "    labels.append(label)\n",
    "    wsis.append(wsi)"
   ]
  },
  {
   "cell_type": "code",
   "execution_count": null,
   "metadata": {},
   "outputs": [],
   "source": [
    "images = np.concatenate(images, axis=0)\n",
    "labels = np.array(labels).reshape(images.shape[0], 1)\n",
    "wsis = np.array(wsis).reshape(images.shape[0], 1)"
   ]
  },
  {
   "cell_type": "code",
   "execution_count": null,
   "metadata": {},
   "outputs": [],
   "source": [
    "print(\"images: {}\".format(images.shape))\n",
    "print(\"labels: {}\".format(labels.shape))"
   ]
  },
  {
   "cell_type": "markdown",
   "metadata": {},
   "source": [
    "## Pickle train data for future usage\n",
    "\n",
    "Let's save the train set to be used in other models.\n",
    "\n",
    "*NOTE*: these images aren't normalized."
   ]
  },
  {
   "cell_type": "code",
   "execution_count": null,
   "metadata": {},
   "outputs": [],
   "source": [
    "# with open(os.path.join(data_path, 'train_images_96_96.pkl'), 'wb') as fout:\n",
    "#     pickle.dump(images, fout, protocol=4)\n",
    "# with open(os.path.join(data_path, 'train_labels.pkl'), 'wb') as fout:\n",
    "#     pickle.dump(labels, fout, protocol=4)"
   ]
  },
  {
   "cell_type": "markdown",
   "metadata": {},
   "source": [
    "## Modeling\n",
    "\n",
    "### Normalize images and perform data augmentation\n",
    "\n",
    "There are several ways of normalizing pixel values, here we use the method used to train **DenseNet201** on *ImageNet* since we are using those pre-trained weights."
   ]
  },
  {
   "cell_type": "code",
   "execution_count": null,
   "metadata": {},
   "outputs": [],
   "source": [
    "# images = images * 2. / 255. - 1.\n",
    "# images = preprocess_input(images)"
   ]
  },
  {
   "cell_type": "markdown",
   "metadata": {},
   "source": [
    "### Define callbacks and model architecture"
   ]
  },
  {
   "cell_type": "code",
   "execution_count": null,
   "metadata": {},
   "outputs": [],
   "source": [
    "class RocCallback(Callback):\n",
    "    \"\"\"Define a callback which returns train ROC AUC after each epoch.\"\"\"\n",
    "\n",
    "    def __init__(self, training_data, validation_data=None):\n",
    "        self.x = training_data[0]\n",
    "        self.y = training_data[1]\n",
    "        self.validation = validation_data is not None\n",
    "        if self.validation:\n",
    "            self.x_val = validation_data[0]\n",
    "            self.y_val = validation_data[1]\n",
    "\n",
    "    def on_train_begin(self, logs={}):\n",
    "        return\n",
    "\n",
    "    def on_train_end(self, logs={}):\n",
    "        y_pred = self.model.predict(self.x)\n",
    "        roc = roc_auc_score(self.y, y_pred)\n",
    "        if self.validation:\n",
    "            y_pred_val = self.model.predict(self.x_val)\n",
    "            roc_val = roc_auc_score(self.y_val, y_pred_val)\n",
    "            print('\\rroc-auc: {} - roc-auc-val: {}'.format(round(roc, 5), round(roc_val, 5)), end=80 * ' ' + '\\n')\n",
    "        else:\n",
    "            print('\\rroc-auc: {}'.format(round(roc, 5)), end=80 * ' ' + '\\n')\n",
    "        return\n",
    "\n",
    "    def on_epoch_begin(self, epoch, logs={}):\n",
    "        return\n",
    "\n",
    "    def on_epoch_end(self, epoch, logs={}):\n",
    "        return\n",
    "\n",
    "    def on_batch_begin(self, batch, logs={}):\n",
    "        return\n",
    "\n",
    "    def on_batch_end(self, batch, logs={}):\n",
    "        return"
   ]
  },
  {
   "cell_type": "code",
   "execution_count": null,
   "metadata": {},
   "outputs": [],
   "source": [
    "def build_model():\n",
    "    resnet = ResNet50(include_top=False, weights='imagenet', input_shape=(size, size, 3), pooling='avg')\n",
    "    x = resnet.output\n",
    "    # x = Flatten()(x)\n",
    "    # x = GlobalAveragePooling2D()(x)\n",
    "    x = BatchNormalization()(x)\n",
    "    x = Dropout(0.8)(x)\n",
    "    x = Dense(1024, activation='relu')(x)\n",
    "    x = BatchNormalization()(x)\n",
    "    x = Dropout(0.8)(x)\n",
    "    x = Dense(512, activation='relu')(x)\n",
    "    x = BatchNormalization()(x)\n",
    "    x = Dropout(0.8)(x)\n",
    "    x = Dense(256, activation='relu')(x)\n",
    "    x = Dropout(0.8)(x)\n",
    "    x = Dense(1, activation='sigmoid')(x)\n",
    "    return Model(inputs=[resnet.input], outputs=[x])"
   ]
  },
  {
   "cell_type": "code",
   "execution_count": null,
   "metadata": {},
   "outputs": [],
   "source": [
    "model = build_model()\n",
    "model.summary()"
   ]
  },
  {
   "cell_type": "markdown",
   "metadata": {},
   "source": [
    "### Train model (k-fold cross validation)"
   ]
  },
  {
   "cell_type": "code",
   "execution_count": null,
   "metadata": {},
   "outputs": [],
   "source": [
    "kfold = 20\n",
    "gkf = GroupKFold(n_splits=kfold)"
   ]
  },
  {
   "cell_type": "code",
   "execution_count": null,
   "metadata": {},
   "outputs": [],
   "source": [
    "k = 0\n",
    "for train_idx, test_idx in gkf.split(images, labels.squeeze(), groups=wsis.squeeze()):\n",
    "    k += 1\n",
    "    # Get train and test set for this fold\n",
    "    train_images = images[train_idx, :, :, :]\n",
    "    train_labels = labels[train_idx, :]\n",
    "    test_images = images[test_idx, :, :, :]\n",
    "    test_labels = labels[test_idx, :]\n",
    "    # Define train (augmentation) and test generators\n",
    "    train_generator = ImageDataGenerator(\n",
    "        # shear_range=0.1,\n",
    "        # zoom_range=0.1,\n",
    "        horizontal_flip=True,\n",
    "        vertical_flip=True,\n",
    "        rotation_range=10.,\n",
    "        fill_mode='reflect',\n",
    "        # width_shift_range=0.1,\n",
    "        # height_shift_range=0.1,\n",
    "        preprocessing_function=preprocess_input\n",
    "    )\n",
    "    train_generator.fit(train_images)\n",
    "    test_images = preprocess_input(test_images)\n",
    "    # Compile model and train\n",
    "    model = build_model()\n",
    "    model.compile(\n",
    "        loss='binary_crossentropy',\n",
    "        optimizer=SGD(lr=1e-2, momentum=0.9, nesterov=True),\n",
    "        metrics=['accuracy']\n",
    "    )\n",
    "    callbacks = [\n",
    "        RocCallback(training_data=(train_images, train_labels), validation_data=(test_images, test_labels)),\n",
    "        ReduceLROnPlateau(monitor='val_loss', factor=0.1, patience=5, mode='auto'),\n",
    "        EarlyStopping(monitor='val_loss', min_delta=1e-4, patience=10, mode='auto')\n",
    "    ]\n",
    "    model.fit_generator(\n",
    "        train_generator.flow(train_images, train_labels, batch_size=256),\n",
    "        steps_per_epoch=len(train_images) / 256,\n",
    "        epochs=500,\n",
    "        validation_data=(test_images, test_labels),\n",
    "        callbacks=callbacks\n",
    "    )\n",
    "    model.save('resnet50_kfold{}.h5'.format(k))"
   ]
  },
  {
   "cell_type": "markdown",
   "metadata": {},
   "source": [
    "## TTA and submission (TODO)"
   ]
  },
  {
   "cell_type": "code",
   "execution_count": null,
   "metadata": {},
   "outputs": [],
   "source": [
    "del images\n",
    "del labels\n",
    "images = []\n",
    "labels = []"
   ]
  },
  {
   "cell_type": "code",
   "execution_count": null,
   "metadata": {},
   "outputs": [],
   "source": [
    "test_path = os.path.join(data_path, 'test')\n",
    "submission_path = os.path.join(data_path, 'sample_submission.csv')"
   ]
  },
  {
   "cell_type": "code",
   "execution_count": null,
   "metadata": {},
   "outputs": [],
   "source": [
    "submission = pd.read_csv(submission_path).drop('label', axis=1)\n",
    "# submission = submission.head(1000)  # Remove this line for full data\n",
    "submission.head()"
   ]
  },
  {
   "cell_type": "code",
   "execution_count": null,
   "metadata": {},
   "outputs": [],
   "source": [
    "def load_image(img_id, img_size=96, roi_size=None):\n",
    "    \"\"\"Load image using its id. Resize and crop is optional.\"\"\"\n",
    "    img_path = os.path.join(test_path, '{}.tif'.format(img_id))\n",
    "    img = load_img(img_path, target_size=(img_size, img_size))\n",
    "    img = img_to_array(img)\n",
    "    if roi_size:\n",
    "        return crop_roi(img, roi_size)\n",
    "    return img"
   ]
  },
  {
   "cell_type": "code",
   "execution_count": null,
   "metadata": {},
   "outputs": [],
   "source": [
    "test_images = []\n",
    "for idx, row in submission.iterrows():\n",
    "    img_id = row[0]\n",
    "    img = load_image(img_id, img_size=img_size, roi_size=roi_size)\n",
    "    img = img.reshape(1, size, size, 3)\n",
    "    test_images.append(img)\n",
    "test_images = np.concatenate(test_images, axis=0)"
   ]
  },
  {
   "cell_type": "code",
   "execution_count": null,
   "metadata": {},
   "outputs": [],
   "source": [
    "# test_images = test_images * 2. / 255. - 1.\n",
    "test_images = preprocess_input(test_images)"
   ]
  },
  {
   "cell_type": "code",
   "execution_count": null,
   "metadata": {},
   "outputs": [],
   "source": [
    "model = load_model('densenet201.h5')\n",
    "predictions = model.predict(test_images).squeeze().tolist()"
   ]
  },
  {
   "cell_type": "code",
   "execution_count": null,
   "metadata": {},
   "outputs": [],
   "source": [
    "submission['label'] = predictions\n",
    "submission.to_csv('submission.csv', index=False)"
   ]
  }
 ],
 "metadata": {
  "kernelspec": {
   "display_name": "Python 3",
   "language": "python",
   "name": "python3"
  },
  "language_info": {
   "codemirror_mode": {
    "name": "ipython",
    "version": 3
   },
   "file_extension": ".py",
   "mimetype": "text/x-python",
   "name": "python",
   "nbconvert_exporter": "python",
   "pygments_lexer": "ipython3",
   "version": "3.6.8"
  }
 },
 "nbformat": 4,
 "nbformat_minor": 2
}
